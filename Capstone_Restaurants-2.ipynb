{
 "cells": [
  {
   "cell_type": "markdown",
   "metadata": {},
   "source": [
    "This will be used for Capstone Project"
   ]
  },
  {
   "cell_type": "code",
   "execution_count": 2,
   "metadata": {},
   "outputs": [],
   "source": [
    "from bs4 import BeautifulSoup\n",
    "import requests\n",
    "import pandas as pd\n",
    "import numpy as np\n",
    "import csv\n",
    "import json"
   ]
  },
  {
   "cell_type": "code",
   "execution_count": 4,
   "metadata": {},
   "outputs": [],
   "source": [
    "#DATAPrep to get coordinates \n",
    "\n",
    "!wget -q -O 'newyork_data.json' https://cocl.us/new_york_dataset\n",
    "    \n",
    "with open('newyork_data.json') as json_data:\n",
    "    newyork_data=json.load(json_data)\n",
    "\n",
    "ny_data=newyork_data['features']\n",
    "column_names= ['Borough', 'Neighbhorhood', 'Latitude', 'Longitude']\n",
    "newyork= pd.DataFrame(columns=column_names)"
   ]
  },
  {
   "cell_type": "code",
   "execution_count": null,
   "metadata": {},
   "outputs": [],
   "source": [
    "location= 'Queens, Ny'\n",
    "geolocator= Nominatim(user_agent=\"ny_explorer\")\n",
    "location=geolocator.geocode(location)\n",
    "latitude=location.latitude\n",
    "longitude=location.longitude\n",
    "print(\"The geographical coordiante of Queens are {} {}\".format(latitude, longitude))\n"
   ]
  },
  {
   "cell_type": "code",
   "execution_count": null,
   "metadata": {},
   "outputs": [],
   "source": [
    "queens_grouped=to_onehot.groupby('Neighborhood').mean()\n",
    "queens_grouped.head()"
   ]
  },
  {
   "cell_type": "code",
   "execution_count": null,
   "metadata": {},
   "outputs": [],
   "source": [
    "#extracting chinese restautant data \n",
    "price=[]\n",
    "\n",
    "for i in range (1,11):\n",
    "    var=KMeans(n_clusters= i, max_iter=500)\n",
    "    var.fit(queens_grouped_clustering)\n",
    "    price.append(var.intertia)\n",
    "plt.plot(range(1,11),price, color='g')\n",
    "plt.xlabel(\"Value of K\")\n",
    "plt.ylabel(\"Squared Error(Price)\")\n",
    "plt.grid()\n",
    "#plt.show"
   ]
  },
  {
   "cell_type": "code",
   "execution_count": null,
   "metadata": {},
   "outputs": [],
   "source": [
    "chinese_restaurant.loc[chinese_restaurant['Cluster Labels']==0]\n",
    "#chinese_restaurant.loc[chinese_restaurant['Cluster Labels']==1]\n",
    "#chinese_restaurant.loc[chinese_restaurant['Cluster Labels']==2]"
   ]
  },
  {
   "cell_type": "code",
   "execution_count": null,
   "metadata": {},
   "outputs": [],
   "source": [
    "graph= pd.DataFrame(to_onehot.groupby('Neighbhorhood')['Chinese Restaurant'].sum())\n",
    "\n",
    "graph= graph.sort_values(by='Chinese Restaurant')\n",
    "graph.iloc[:9].plot(kind=bar, figsize(10,6))\n",
    "plt.xlabel(\"Neighbhorhood\")\n",
    "plt.ylabel(\"No. of Chinese Restaurants)\")\n",
    "plt.show()\n"
   ]
  }
 ],
 "metadata": {
  "kernelspec": {
   "display_name": "Python 3.7",
   "language": "python",
   "name": "python3"
  },
  "language_info": {
   "codemirror_mode": {
    "name": "ipython",
    "version": 3
   },
   "file_extension": ".py",
   "mimetype": "text/x-python",
   "name": "python",
   "nbconvert_exporter": "python",
   "pygments_lexer": "ipython3",
   "version": "3.7.9"
  }
 },
 "nbformat": 4,
 "nbformat_minor": 1
}
